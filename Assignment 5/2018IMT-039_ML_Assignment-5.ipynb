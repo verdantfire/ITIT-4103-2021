{
 "cells": [
  {
   "cell_type": "markdown",
   "metadata": {},
   "source": [
    "#### Assignment 5"
   ]
  },
  {
   "cell_type": "markdown",
   "metadata": {},
   "source": [
    "- **Name: Himanshu Ruhela**\n",
    "- **Roll No: 2018IMT-039**\n",
    "- **Course: Machine Learning Lab**\n",
    "- **Course Code: ITIT-4107**\n",
    "- **Deadline: 23:59, 25 October 2021**"
   ]
  },
  {
   "cell_type": "markdown",
   "metadata": {},
   "source": [
    "Given iris dataset (https://archive.ics.uci.edu/ml/datasets/iris) with 3 classes and 4 features such as sepals/petals, Length, width etc. for each flower in the dataset. There are 50 instances per class in the dataset. Use Bayes Classifier as your base classifier model. Use 60% samples for training and 40% samples for testing.\n",
    "\n",
    "1. Perform feature selection on this dataset using forward search.\n",
    "\n",
    "2. As you select features, until 2 features, plot your right and incorrect classification instances for all classes.\n",
    "\n",
    "3. For all the set of features selected, plot the accuracies to show the best subset of selected features\n"
   ]
  },
  {
   "cell_type": "markdown",
   "metadata": {
    "id": "DvFLXHI4HRpO"
   },
   "source": [
    "## Importing libraries"
   ]
  },
  {
   "cell_type": "code",
   "execution_count": 1,
   "metadata": {
    "id": "Ai_wDrJ1HRpP"
   },
   "outputs": [],
   "source": [
    "import numpy as np\n",
    "import scipy as sp\n",
    "import pandas as pd\n",
    "from sklearn.model_selection import train_test_split\n",
    "from sklearn.preprocessing import LabelEncoder\n",
    "from matplotlib import pyplot as plt"
   ]
  },
  {
   "cell_type": "markdown",
   "metadata": {
    "id": "AmSoB0QtHRpQ"
   },
   "source": [
    "## Loading Data"
   ]
  },
  {
   "cell_type": "code",
   "execution_count": 2,
   "metadata": {
    "colab": {
     "base_uri": "https://localhost:8080/",
     "height": 203
    },
    "id": "tAjvItBIHRpQ",
    "outputId": "5607f95a-6fa9-4a89-bddb-f15da6587bf9"
   },
   "outputs": [
    {
     "data": {
      "text/html": [
       "<div>\n",
       "<style scoped>\n",
       "    .dataframe tbody tr th:only-of-type {\n",
       "        vertical-align: middle;\n",
       "    }\n",
       "\n",
       "    .dataframe tbody tr th {\n",
       "        vertical-align: top;\n",
       "    }\n",
       "\n",
       "    .dataframe thead th {\n",
       "        text-align: right;\n",
       "    }\n",
       "</style>\n",
       "<table border=\"1\" class=\"dataframe\">\n",
       "  <thead>\n",
       "    <tr style=\"text-align: right;\">\n",
       "      <th></th>\n",
       "      <th>sepal_length</th>\n",
       "      <th>sepal_width</th>\n",
       "      <th>petal_length</th>\n",
       "      <th>petal_width</th>\n",
       "    </tr>\n",
       "  </thead>\n",
       "  <tbody>\n",
       "    <tr>\n",
       "      <th>count</th>\n",
       "      <td>150.000000</td>\n",
       "      <td>150.000000</td>\n",
       "      <td>150.000000</td>\n",
       "      <td>150.000000</td>\n",
       "    </tr>\n",
       "    <tr>\n",
       "      <th>mean</th>\n",
       "      <td>5.843333</td>\n",
       "      <td>3.054000</td>\n",
       "      <td>3.758667</td>\n",
       "      <td>1.198667</td>\n",
       "    </tr>\n",
       "    <tr>\n",
       "      <th>std</th>\n",
       "      <td>0.828066</td>\n",
       "      <td>0.433594</td>\n",
       "      <td>1.764420</td>\n",
       "      <td>0.763161</td>\n",
       "    </tr>\n",
       "    <tr>\n",
       "      <th>min</th>\n",
       "      <td>4.300000</td>\n",
       "      <td>2.000000</td>\n",
       "      <td>1.000000</td>\n",
       "      <td>0.100000</td>\n",
       "    </tr>\n",
       "    <tr>\n",
       "      <th>25%</th>\n",
       "      <td>5.100000</td>\n",
       "      <td>2.800000</td>\n",
       "      <td>1.600000</td>\n",
       "      <td>0.300000</td>\n",
       "    </tr>\n",
       "    <tr>\n",
       "      <th>50%</th>\n",
       "      <td>5.800000</td>\n",
       "      <td>3.000000</td>\n",
       "      <td>4.350000</td>\n",
       "      <td>1.300000</td>\n",
       "    </tr>\n",
       "    <tr>\n",
       "      <th>75%</th>\n",
       "      <td>6.400000</td>\n",
       "      <td>3.300000</td>\n",
       "      <td>5.100000</td>\n",
       "      <td>1.800000</td>\n",
       "    </tr>\n",
       "    <tr>\n",
       "      <th>max</th>\n",
       "      <td>7.900000</td>\n",
       "      <td>4.400000</td>\n",
       "      <td>6.900000</td>\n",
       "      <td>2.500000</td>\n",
       "    </tr>\n",
       "  </tbody>\n",
       "</table>\n",
       "</div>"
      ],
      "text/plain": [
       "       sepal_length  sepal_width  petal_length  petal_width\n",
       "count    150.000000   150.000000    150.000000   150.000000\n",
       "mean       5.843333     3.054000      3.758667     1.198667\n",
       "std        0.828066     0.433594      1.764420     0.763161\n",
       "min        4.300000     2.000000      1.000000     0.100000\n",
       "25%        5.100000     2.800000      1.600000     0.300000\n",
       "50%        5.800000     3.000000      4.350000     1.300000\n",
       "75%        6.400000     3.300000      5.100000     1.800000\n",
       "max        7.900000     4.400000      6.900000     2.500000"
      ]
     },
     "execution_count": 2,
     "metadata": {},
     "output_type": "execute_result"
    }
   ],
   "source": [
    "data_url = 'https://archive.ics.uci.edu/ml/machine-learning-databases/iris/iris.data'\n",
    "\n",
    "# creating dataframe\n",
    "df = pd.read_csv(data_url, header = None)\n",
    "df.columns = ['sepal_length', 'sepal_width', 'petal_length', 'petal_width', 'species']\n",
    "\n",
    "X = df.iloc[:, :4].values\n",
    "y = df['species'].values\n",
    "df.describe()"
   ]
  },
  {
   "cell_type": "code",
   "execution_count": 3,
   "metadata": {},
   "outputs": [
    {
     "data": {
      "text/html": [
       "<div>\n",
       "<style scoped>\n",
       "    .dataframe tbody tr th:only-of-type {\n",
       "        vertical-align: middle;\n",
       "    }\n",
       "\n",
       "    .dataframe tbody tr th {\n",
       "        vertical-align: top;\n",
       "    }\n",
       "\n",
       "    .dataframe thead th {\n",
       "        text-align: right;\n",
       "    }\n",
       "</style>\n",
       "<table border=\"1\" class=\"dataframe\">\n",
       "  <thead>\n",
       "    <tr style=\"text-align: right;\">\n",
       "      <th></th>\n",
       "      <th>sepal_length</th>\n",
       "      <th>sepal_width</th>\n",
       "      <th>petal_length</th>\n",
       "      <th>petal_width</th>\n",
       "      <th>species</th>\n",
       "    </tr>\n",
       "  </thead>\n",
       "  <tbody>\n",
       "    <tr>\n",
       "      <th>0</th>\n",
       "      <td>5.1</td>\n",
       "      <td>3.5</td>\n",
       "      <td>1.4</td>\n",
       "      <td>0.2</td>\n",
       "      <td>Iris-setosa</td>\n",
       "    </tr>\n",
       "    <tr>\n",
       "      <th>1</th>\n",
       "      <td>4.9</td>\n",
       "      <td>3.0</td>\n",
       "      <td>1.4</td>\n",
       "      <td>0.2</td>\n",
       "      <td>Iris-setosa</td>\n",
       "    </tr>\n",
       "    <tr>\n",
       "      <th>2</th>\n",
       "      <td>4.7</td>\n",
       "      <td>3.2</td>\n",
       "      <td>1.3</td>\n",
       "      <td>0.2</td>\n",
       "      <td>Iris-setosa</td>\n",
       "    </tr>\n",
       "    <tr>\n",
       "      <th>3</th>\n",
       "      <td>4.6</td>\n",
       "      <td>3.1</td>\n",
       "      <td>1.5</td>\n",
       "      <td>0.2</td>\n",
       "      <td>Iris-setosa</td>\n",
       "    </tr>\n",
       "    <tr>\n",
       "      <th>4</th>\n",
       "      <td>5.0</td>\n",
       "      <td>3.6</td>\n",
       "      <td>1.4</td>\n",
       "      <td>0.2</td>\n",
       "      <td>Iris-setosa</td>\n",
       "    </tr>\n",
       "  </tbody>\n",
       "</table>\n",
       "</div>"
      ],
      "text/plain": [
       "   sepal_length  sepal_width  petal_length  petal_width      species\n",
       "0           5.1          3.5           1.4          0.2  Iris-setosa\n",
       "1           4.9          3.0           1.4          0.2  Iris-setosa\n",
       "2           4.7          3.2           1.3          0.2  Iris-setosa\n",
       "3           4.6          3.1           1.5          0.2  Iris-setosa\n",
       "4           5.0          3.6           1.4          0.2  Iris-setosa"
      ]
     },
     "execution_count": 3,
     "metadata": {},
     "output_type": "execute_result"
    }
   ],
   "source": [
    "df.head()"
   ]
  },
  {
   "cell_type": "code",
   "execution_count": 4,
   "metadata": {
    "colab": {
     "base_uri": "https://localhost:8080/"
    },
    "id": "mNB63bV7HRpS",
    "outputId": "8981772d-5e43-46f4-d76a-6aa41b96979c"
   },
   "outputs": [
    {
     "name": "stdout",
     "output_type": "stream",
     "text": [
      "['Iris-setosa' 'Iris-versicolor' 'Iris-virginica']\n"
     ]
    }
   ],
   "source": [
    "# Encode the species type to integers\n",
    "\n",
    "le = LabelEncoder()\n",
    "le.fit(df.species)\n",
    "y = le.transform(df.species)\n",
    "print(le.classes_)\n",
    "x_train, x_test, y_train, y_test = train_test_split(X, y, test_size=0.4, random_state=69)"
   ]
  },
  {
   "cell_type": "markdown",
   "metadata": {
    "id": "R9F1OW4kHRpT"
   },
   "source": [
    "## Implementing Naive Bayes model"
   ]
  },
  {
   "cell_type": "code",
   "execution_count": 5,
   "metadata": {
    "id": "2DRUnB4qHRpU"
   },
   "outputs": [
    {
     "data": {
      "text/plain": [
       "<Figure size 432x288 with 0 Axes>"
      ]
     },
     "metadata": {},
     "output_type": "display_data"
    }
   ],
   "source": [
    "from sklearn.naive_bayes import GaussianNB\n",
    "from sklearn.metrics import confusion_matrix, accuracy_score\n",
    "import seaborn as sns\n",
    "classifier = GaussianNB()\n",
    "\n",
    "fig = plt.figure()"
   ]
  },
  {
   "cell_type": "markdown",
   "metadata": {
    "id": "986mAss_HRpU"
   },
   "source": [
    "## Take each feature individually\n",
    "\n",
    "### Training using sepal_length feature and target variable"
   ]
  },
  {
   "cell_type": "code",
   "execution_count": 6,
   "metadata": {
    "colab": {
     "base_uri": "https://localhost:8080/",
     "height": 302
    },
    "id": "KA_hLuiWHRpV",
    "outputId": "aeff59d9-e9fe-49d0-bc84-165044cdc84d"
   },
   "outputs": [
    {
     "name": "stdout",
     "output_type": "stream",
     "text": [
      "Accuracy when feature: sepal length => 0.65\n"
     ]
    },
    {
     "data": {
      "text/plain": [
       "Text(0.5, 1.0, 'Feature: sepal length')"
      ]
     },
     "execution_count": 6,
     "metadata": {},
     "output_type": "execute_result"
    },
    {
     "data": {
      "image/png": "[encoded data removed]",
      "text/plain": [
       "<Figure size 432x288 with 2 Axes>"
      ]
     },
     "metadata": {
      "needs_background": "light"
     },
     "output_type": "display_data"
    }
   ],
   "source": [
    "classifier.fit(x_train[:, 0].reshape(-1, 1), y_train)\n",
    "y_pred = classifier.predict(x_test[:, 0].reshape(-1,1))\n",
    "cm = confusion_matrix(y_test, y_pred)\n",
    "\n",
    "print(\"Accuracy when feature: sepal length =>\", accuracy_score(y_test, y_pred))\n",
    "\n",
    "sns.heatmap(cm, annot=True, cmap=\"YlGnBu\")\n",
    "plt.title(\"Feature: sepal length\")"
   ]
  },
  {
   "cell_type": "markdown",
   "metadata": {
    "id": "ehCURrjKHRpV"
   },
   "source": [
    "#### Training model using sepal_width feature and target variable is used\n"
   ]
  },
  {
   "cell_type": "code",
   "execution_count": 7,
   "metadata": {
    "colab": {
     "base_uri": "https://localhost:8080/",
     "height": 302
    },
    "id": "V51WjaOZHRpW",
    "outputId": "d866ca37-7939-439c-a373-099176e2c532"
   },
   "outputs": [
    {
     "name": "stdout",
     "output_type": "stream",
     "text": [
      "Accuracy when feature: sepal width => 0.55\n"
     ]
    },
    {
     "data": {
      "text/plain": [
       "Text(0.5, 1.0, 'Feature: sepal width')"
      ]
     },
     "execution_count": 7,
     "metadata": {},
     "output_type": "execute_result"
    },
    {
     "data": {
      "image/png": "[encoded data removed]",
      "text/plain": [
       "<Figure size 432x288 with 2 Axes>"
      ]
     },
     "metadata": {
      "needs_background": "light"
     },
     "output_type": "display_data"
    }
   ],
   "source": [
    "classifier.fit(x_train[:, 1].reshape(-1, 1), y_train)\n",
    "y_pred = classifier.predict(x_test[:, 1].reshape(-1,1))\n",
    "cm = confusion_matrix(y_test, y_pred)\n",
    "\n",
    "print(\"Accuracy when feature: sepal width =>\", accuracy_score(y_test, y_pred))\n",
    "\n",
    "sns.heatmap(cm, annot=True, cmap=\"YlGnBu\")\n",
    "plt.title(\"Feature: sepal width\")"
   ]
  },
  {
   "cell_type": "markdown",
   "metadata": {
    "id": "gImbhdOCHRpX"
   },
   "source": [
    "#### Training model using petal_length feature and target variable is used\n"
   ]
  },
  {
   "cell_type": "code",
   "execution_count": 8,
   "metadata": {
    "colab": {
     "base_uri": "https://localhost:8080/",
     "height": 298
    },
    "id": "EGYdY-J5HRpX",
    "outputId": "db79d11b-2609-45df-84ba-39f527052ab5"
   },
   "outputs": [
    {
     "name": "stdout",
     "output_type": "stream",
     "text": [
      "Accuracy when feature: petal length => 0.95\n"
     ]
    },
    {
     "data": {
      "text/plain": [
       "Text(0.5, 1.0, 'Feature: petal length')"
      ]
     },
     "execution_count": 8,
     "metadata": {},
     "output_type": "execute_result"
    },
    {
     "data": {
      "image/png": "[encoded data removed]",
      "text/plain": [
       "<Figure size 432x288 with 2 Axes>"
      ]
     },
     "metadata": {
      "needs_background": "light"
     },
     "output_type": "display_data"
    }
   ],
   "source": [
    "classifier.fit(x_train[:, 2].reshape(-1, 1), y_train)\n",
    "y_pred = classifier.predict(x_test[:, 2].reshape(-1,1))\n",
    "cm = confusion_matrix(y_test, y_pred)\n",
    "\n",
    "print(\"Accuracy when feature: petal length =>\", accuracy_score(y_test, y_pred))\n",
    "\n",
    "sns.heatmap(cm, annot=True, cmap=\"YlGnBu\")\n",
    "plt.title(\"Feature: petal length\")"
   ]
  },
  {
   "cell_type": "markdown",
   "metadata": {
    "id": "GNeiQ9iOHRpY"
   },
   "source": [
    "#### Training model using petal_width feature and target variable is used\n"
   ]
  },
  {
   "cell_type": "code",
   "execution_count": 9,
   "metadata": {
    "colab": {
     "base_uri": "https://localhost:8080/",
     "height": 298
    },
    "id": "eDzf82AUHRpY",
    "outputId": "2089f6fb-70ff-448f-fcdf-755ff892660d",
    "scrolled": false
   },
   "outputs": [
    {
     "name": "stdout",
     "output_type": "stream",
     "text": [
      "Accuracy when feature: petal width => 0.9333333333333333\n"
     ]
    },
    {
     "data": {
      "text/plain": [
       "Text(0.5, 1.0, 'Feature: petal width')"
      ]
     },
     "execution_count": 9,
     "metadata": {},
     "output_type": "execute_result"
    },
    {
     "data": {
      "image/png": "[encoded data removed]",
      "text/plain": [
       "<Figure size 432x288 with 2 Axes>"
      ]
     },
     "metadata": {
      "needs_background": "light"
     },
     "output_type": "display_data"
    }
   ],
   "source": [
    "classifier.fit(x_train[:, 3].reshape(-1, 1), y_train)\n",
    "y_pred = classifier.predict(x_test[:, 3].reshape(-1,1))\n",
    "cm = confusion_matrix(y_test, y_pred)\n",
    "\n",
    "print(\"Accuracy when feature: petal width =>\", accuracy_score(y_test, y_pred))\n",
    "\n",
    "sns.heatmap(cm, annot=True, cmap=\"YlGnBu\")\n",
    "plt.title(\"Feature: petal width\")"
   ]
  },
  {
   "cell_type": "markdown",
   "metadata": {
    "id": "vGrBN7K5HRpZ"
   },
   "source": [
    "## Take Multiple features into consideration\n",
    "\n",
    "Will try different combination of the features"
   ]
  },
  {
   "cell_type": "markdown",
   "metadata": {
    "id": "3WoJWgmJHRpZ"
   },
   "source": [
    "#### Training model using petal_width and sepal_length as input feature and target variable is used\n"
   ]
  },
  {
   "cell_type": "code",
   "execution_count": 10,
   "metadata": {
    "colab": {
     "base_uri": "https://localhost:8080/",
     "height": 298
    },
    "id": "fBgEWxZfHRpa",
    "outputId": "677bcd9a-553a-4cb5-9545-8774291c2ee2",
    "scrolled": false
   },
   "outputs": [
    {
     "name": "stdout",
     "output_type": "stream",
     "text": [
      "Accuracy when features: petal_width and sepal_length => 0.95\n"
     ]
    },
    {
     "data": {
      "text/plain": [
       "Text(0.5, 1.0, 'Features: petal width and sepal length')"
      ]
     },
     "execution_count": 10,
     "metadata": {},
     "output_type": "execute_result"
    },
    {
     "data": {
      "image/png": "[encoded data removed]",
      "text/plain": [
       "<Figure size 432x288 with 2 Axes>"
      ]
     },
     "metadata": {
      "needs_background": "light"
     },
     "output_type": "display_data"
    }
   ],
   "source": [
    "x_input1 = np.array([[inp[0], inp[3]] for inp in x_train])\n",
    "x_te = np.array([[inp[0], inp[3]] for inp in x_test])\n",
    "classifier.fit(x_input1, y_train)\n",
    "y_pred = classifier.predict(x_te)\n",
    "cm = confusion_matrix(y_test, y_pred)\n",
    "\n",
    "print(\"Accuracy when features: petal_width and sepal_length =>\", accuracy_score(y_test, y_pred))\n",
    "\n",
    "sns.heatmap(cm, annot=True, cmap=\"YlGnBu\")\n",
    "plt.title(\"Features: petal width and sepal length\")"
   ]
  },
  {
   "cell_type": "markdown",
   "metadata": {
    "id": "qIqdSzYeHRpa"
   },
   "source": [
    "#### Training model using petal_width and sepal_width as input feature and target variable is used\n"
   ]
  },
  {
   "cell_type": "code",
   "execution_count": 11,
   "metadata": {
    "colab": {
     "base_uri": "https://localhost:8080/",
     "height": 298
    },
    "id": "lrTx_0uxHRpb",
    "outputId": "9033c852-c714-4fe7-dba3-b9474c40c53f"
   },
   "outputs": [
    {
     "name": "stdout",
     "output_type": "stream",
     "text": [
      "Accuracy when features: petal_width and sepal_width => 0.9\n"
     ]
    },
    {
     "data": {
      "text/plain": [
       "Text(0.5, 1.0, 'Features: petal width and sepal width')"
      ]
     },
     "execution_count": 11,
     "metadata": {},
     "output_type": "execute_result"
    },
    {
     "data": {
      "image/png": "[encoded data removed]",
      "text/plain": [
       "<Figure size 432x288 with 2 Axes>"
      ]
     },
     "metadata": {
      "needs_background": "light"
     },
     "output_type": "display_data"
    }
   ],
   "source": [
    "x_input2 = np.array([[inp[1], inp[3]] for inp in x_train])\n",
    "x_te = np.array([[inp[1], inp[3]] for inp in x_test])\n",
    "classifier.fit(x_input2, y_train)\n",
    "y_pred = classifier.predict(x_te)\n",
    "cm = confusion_matrix(y_test, y_pred)\n",
    "\n",
    "print(\"Accuracy when features: petal_width and sepal_width =>\", accuracy_score(y_test, y_pred))\n",
    "\n",
    "sns.heatmap(cm, annot=True, cmap=\"YlGnBu\")\n",
    "plt.title(\"Features: petal width and sepal width\")"
   ]
  },
  {
   "cell_type": "markdown",
   "metadata": {
    "id": "RZ1KqM_HHRpb"
   },
   "source": [
    "#### Training model using petal_width and petal_length as input feature and target variable is used\n"
   ]
  },
  {
   "cell_type": "code",
   "execution_count": 12,
   "metadata": {
    "colab": {
     "base_uri": "https://localhost:8080/",
     "height": 298
    },
    "id": "3ltWSiVLHRpb",
    "outputId": "5919b6a3-9c60-4bed-8936-23856dacfb1c",
    "scrolled": false
   },
   "outputs": [
    {
     "name": "stdout",
     "output_type": "stream",
     "text": [
      "Accuracy when features: petal_width and petal_length => 0.95\n"
     ]
    },
    {
     "data": {
      "text/plain": [
       "Text(0.5, 1.0, 'Features: petal width and petal length')"
      ]
     },
     "execution_count": 12,
     "metadata": {},
     "output_type": "execute_result"
    },
    {
     "data": {
      "image/png": "[encoded data removed]",
      "text/plain": [
       "<Figure size 432x288 with 2 Axes>"
      ]
     },
     "metadata": {
      "needs_background": "light"
     },
     "output_type": "display_data"
    }
   ],
   "source": [
    "x_input3 = np.array([[inp[2], inp[3]] for inp in x_train])\n",
    "x_te = np.array([[inp[2], inp[3]] for inp in x_test])\n",
    "classifier.fit(x_input3, y_train)\n",
    "y_pred = classifier.predict(x_te)\n",
    "cm = confusion_matrix(y_test, y_pred)\n",
    "\n",
    "print(\"Accuracy when features: petal_width and petal_length =>\", accuracy_score(y_test, y_pred))\n",
    "\n",
    "sns.heatmap(cm, annot=True, cmap=\"YlGnBu\")\n",
    "plt.title(\"Features: petal width and petal length\")"
   ]
  },
  {
   "cell_type": "markdown",
   "metadata": {},
   "source": [
    "## Petal Width and Petal Length features produce the highest accuracy."
   ]
  }
 ],
 "metadata": {
  "colab": {
   "name": "ML_Assignment_5[2018IMT-091].ipynb",
   "provenance": []
  },
  "interpreter": {
   "hash": "56c76cc5920e03d6fe5cb34b7380fe2d096ed20be13935d255c0a965d8089d0a"
  },
  "kernelspec": {
   "display_name": "Python 3",
   "language": "python",
   "name": "python3"
  },
  "language_info": {
   "codemirror_mode": {
    "name": "ipython",
    "version": 3
   },
   "file_extension": ".py",
   "mimetype": "text/x-python",
   "name": "python",
   "nbconvert_exporter": "python",
   "pygments_lexer": "ipython3",
   "version": "3.7.7"
  }
 },
 "nbformat": 4,
 "nbformat_minor": 1
}
